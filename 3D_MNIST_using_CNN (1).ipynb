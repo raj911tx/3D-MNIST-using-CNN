{
  "nbformat": 4,
  "nbformat_minor": 0,
  "metadata": {
    "colab": {
      "name": "3D MNIST using CNN.ipynb",
      "provenance": [],
      "collapsed_sections": []
    },
    "kernelspec": {
      "name": "python3",
      "display_name": "Python 3"
    },
    "accelerator": "GPU"
  },
  "cells": [
    {
      "cell_type": "markdown",
      "metadata": {
        "id": "rggCBo8TThdR"
      },
      "source": [
        "In 2 dimentional image Segmentation we use 2d convolution network here in this project we are trying to use a 3d CNN model for classification.For classifying 3d datasets pointnets are better alternative but it requires creating complex architecture.MNIST dataset consists of digits from 0-9."
      ]
    },
    {
      "cell_type": "code",
      "metadata": {
        "colab": {
          "base_uri": "https://localhost:8080/"
        },
        "id": "vS4CZinx5e1C",
        "outputId": "fc5a031b-e1b2-468c-d691-8436dee727fb"
      },
      "source": [
        "from google.colab import drive\n",
        "drive.mount('/content/gdrive')"
      ],
      "execution_count": 1,
      "outputs": [
        {
          "output_type": "stream",
          "text": [
            "Mounted at /content/gdrive\n"
          ],
          "name": "stdout"
        }
      ]
    },
    {
      "cell_type": "code",
      "metadata": {
        "id": "MPKlf1F46KEd"
      },
      "source": [
        "import os\n",
        "os.environ['KAGGLE_CONFIG_DIR'] = \"/content/gdrive/My Drive/Kaggle\""
      ],
      "execution_count": 2,
      "outputs": []
    },
    {
      "cell_type": "code",
      "metadata": {
        "colab": {
          "base_uri": "https://localhost:8080/"
        },
        "id": "FWqnY-V86c-r",
        "outputId": "a581d960-515c-4060-f208-68ea0969334f"
      },
      "source": [
        "%cd /content/gdrive/My Drive/Kaggle"
      ],
      "execution_count": 3,
      "outputs": [
        {
          "output_type": "stream",
          "text": [
            "/content/gdrive/My Drive/Kaggle\n"
          ],
          "name": "stdout"
        }
      ]
    },
    {
      "cell_type": "markdown",
      "metadata": {
        "id": "Mxl0JKD0UAk4"
      },
      "source": [
        "First we are downloading the dataset from kaggle."
      ]
    },
    {
      "cell_type": "code",
      "metadata": {
        "colab": {
          "base_uri": "https://localhost:8080/"
        },
        "id": "I0jbZ2LA6hWL",
        "outputId": "791e3efd-83ab-400d-f651-fc2c904f22fa"
      },
      "source": [
        "!kaggle datasets download -d daavoo/3d-mnist"
      ],
      "execution_count": 4,
      "outputs": [
        {
          "output_type": "stream",
          "text": [
            "Downloading 3d-mnist.zip to /content/gdrive/My Drive/Kaggle\n",
            " 90% 138M/153M [00:00<00:00, 168MB/s]\n",
            "100% 153M/153M [00:00<00:00, 184MB/s]\n"
          ],
          "name": "stdout"
        }
      ]
    },
    {
      "cell_type": "code",
      "metadata": {
        "colab": {
          "base_uri": "https://localhost:8080/"
        },
        "id": "Maldi5Ya6psL",
        "outputId": "9d19c19d-9a70-4e41-eb9a-8a6cfba2d8b5"
      },
      "source": [
        "!unzip \\*.zip  && rm *.zip"
      ],
      "execution_count": 5,
      "outputs": [
        {
          "output_type": "stream",
          "text": [
            "Archive:  3d-mnist.zip\n",
            "replace full_dataset_vectors.h5? [y]es, [n]o, [A]ll, [N]one, [r]ename: A\n",
            "  inflating: full_dataset_vectors.h5  \n",
            "  inflating: plot3D.py               \n",
            "  inflating: test_point_clouds.h5    \n",
            "  inflating: train_point_clouds.h5   \n",
            "  inflating: voxelgrid.py            \n"
          ],
          "name": "stdout"
        }
      ]
    },
    {
      "cell_type": "code",
      "metadata": {
        "id": "QxMmHsUi63JE"
      },
      "source": [
        "import numpy as np\n",
        "import h5py"
      ],
      "execution_count": 6,
      "outputs": []
    },
    {
      "cell_type": "markdown",
      "metadata": {
        "id": "qvsEhRSFULIU"
      },
      "source": [
        "Then we are seperating training and testing data from the dataset."
      ]
    },
    {
      "cell_type": "code",
      "metadata": {
        "id": "7iDgQ9N7VI3J"
      },
      "source": [
        "with h5py.File('full_dataset_vectors.h5', 'r') as dataset:\n",
        "    x_train = dataset[\"X_train\"][:]\n",
        "    x_test = dataset[\"X_test\"][:]\n",
        "    y_train = dataset[\"y_train\"][:]\n",
        "    y_test = dataset[\"y_test\"][:]"
      ],
      "execution_count": 7,
      "outputs": []
    },
    {
      "cell_type": "code",
      "metadata": {
        "id": "Yh1u5ScjVKAt",
        "colab": {
          "base_uri": "https://localhost:8080/"
        },
        "outputId": "ab66a915-e6a3-405d-c534-eb469940424a"
      },
      "source": [
        "print (\"x_train shape: \", x_train.shape)\n",
        "print (\"y_train shape: \", y_train.shape)\n",
        "\n",
        "print (\"x_test shape:  \", x_test.shape)\n",
        "print (\"y_test shape:  \", y_test.shape)"
      ],
      "execution_count": 8,
      "outputs": [
        {
          "output_type": "stream",
          "text": [
            "x_train shape:  (10000, 4096)\n",
            "y_train shape:  (10000,)\n",
            "x_test shape:   (2000, 4096)\n",
            "y_test shape:   (2000,)\n"
          ],
          "name": "stdout"
        }
      ]
    },
    {
      "cell_type": "markdown",
      "metadata": {
        "id": "hQSJToe-UoRS"
      },
      "source": [
        "We add 3 color channels to data data similar to as we do 3 channels to image set"
      ]
    },
    {
      "cell_type": "code",
      "metadata": {
        "id": "kw8loDWcWjwB"
      },
      "source": [
        "xtrain = np.ndarray((x_train.shape[0], 4096, 3))\n",
        "xtest = np.ndarray((x_test.shape[0], 4096, 3))"
      ],
      "execution_count": 9,
      "outputs": []
    },
    {
      "cell_type": "code",
      "metadata": {
        "id": "DdSIt_7-VJz1"
      },
      "source": [
        "from matplotlib.pyplot import cm"
      ],
      "execution_count": 10,
      "outputs": []
    },
    {
      "cell_type": "code",
      "metadata": {
        "id": "CqdflAghIpxC"
      },
      "source": [
        "def add_rgb_dimention(array):\n",
        "    scalar_map = cm.ScalarMappable(cmap=\"Oranges\")\n",
        "    return scalar_map.to_rgba(array)[:, : -1]\n",
        "\n",
        "for i in range(x_train.shape[0]):\n",
        "    xtrain[i] = add_rgb_dimention(x_train[i])\n",
        "for i in range(x_test.shape[0]):\n",
        "    xtest[i] = add_rgb_dimention(x_test[i])"
      ],
      "execution_count": 11,
      "outputs": []
    },
    {
      "cell_type": "code",
      "metadata": {
        "id": "vSyM7CVKI0nM"
      },
      "source": [
        "xtrain = xtrain.reshape(x_train.shape[0], 16, 16, 16, 3)\n",
        "xtest = xtest.reshape(x_test.shape[0], 16, 16, 16, 3)"
      ],
      "execution_count": 12,
      "outputs": []
    },
    {
      "cell_type": "code",
      "metadata": {
        "id": "wkakxv7QYIZj",
        "colab": {
          "base_uri": "https://localhost:8080/"
        },
        "outputId": "d0f515a6-38fb-49b2-9233-5f8f55f3ace2"
      },
      "source": [
        "xtrain.shape"
      ],
      "execution_count": 13,
      "outputs": [
        {
          "output_type": "execute_result",
          "data": {
            "text/plain": [
              "(10000, 16, 16, 16, 3)"
            ]
          },
          "metadata": {
            "tags": []
          },
          "execution_count": 13
        }
      ]
    },
    {
      "cell_type": "markdown",
      "metadata": {
        "id": "IqFAjNTqWEd_"
      },
      "source": [
        "Now set the lables to one-hot matrix for classification."
      ]
    },
    {
      "cell_type": "code",
      "metadata": {
        "id": "_Vf32HuEV-Np"
      },
      "source": [
        "import keras.utils"
      ],
      "execution_count": 14,
      "outputs": []
    },
    {
      "cell_type": "code",
      "metadata": {
        "id": "eNRBilJeI21_"
      },
      "source": [
        "y_train = keras.utils.to_categorical(y_train,10)\n",
        "y_test = keras.utils.to_categorical(y_test,10)"
      ],
      "execution_count": 15,
      "outputs": []
    },
    {
      "cell_type": "code",
      "metadata": {
        "id": "jwZH0Yl3evyp",
        "colab": {
          "base_uri": "https://localhost:8080/"
        },
        "outputId": "29abc036-d11b-4db3-bf5d-ba34c6b8060d"
      },
      "source": [
        "y_train.shape"
      ],
      "execution_count": 16,
      "outputs": [
        {
          "output_type": "execute_result",
          "data": {
            "text/plain": [
              "(10000, 10)"
            ]
          },
          "metadata": {
            "tags": []
          },
          "execution_count": 16
        }
      ]
    },
    {
      "cell_type": "code",
      "metadata": {
        "id": "IX49ZJZ-JMlI",
        "colab": {
          "base_uri": "https://localhost:8080/"
        },
        "outputId": "92381b70-6ec4-4554-e8f7-17afc3de8c87"
      },
      "source": [
        "from tensorflow.keras.models import Sequential\n",
        "from tensorflow.keras.layers import Conv3D, MaxPool3D, Flatten, Dense\n",
        "from tensorflow.keras.layers import Dropout,BatchNormalization\n",
        "model=Sequential()\n",
        "model.add(Conv3D(32,(3,3,3),activation='relu',padding='same',input_shape=xtrain.shape[1:]))\n",
        "model.add(MaxPool3D((2,2,2)))\n",
        "model.add(Conv3D(64,(3,3,3),activation='relu',padding='same'))\n",
        "model.add(MaxPool3D((2,2,2)))\n",
        "model.add(Conv3D(128,(3,3,3),activation='relu',padding='same'))\n",
        "model.add(MaxPool3D((2,2,2)))\n",
        "model.add(Conv3D(256,(3,3,3),activation='relu',padding='same'))\n",
        "model.add(MaxPool3D((2,2,2)))\n",
        "\n",
        "model.summary()"
      ],
      "execution_count": 17,
      "outputs": [
        {
          "output_type": "stream",
          "text": [
            "Model: \"sequential\"\n",
            "_________________________________________________________________\n",
            "Layer (type)                 Output Shape              Param #   \n",
            "=================================================================\n",
            "conv3d (Conv3D)              (None, 16, 16, 16, 32)    2624      \n",
            "_________________________________________________________________\n",
            "max_pooling3d (MaxPooling3D) (None, 8, 8, 8, 32)       0         \n",
            "_________________________________________________________________\n",
            "conv3d_1 (Conv3D)            (None, 8, 8, 8, 64)       55360     \n",
            "_________________________________________________________________\n",
            "max_pooling3d_1 (MaxPooling3 (None, 4, 4, 4, 64)       0         \n",
            "_________________________________________________________________\n",
            "conv3d_2 (Conv3D)            (None, 4, 4, 4, 128)      221312    \n",
            "_________________________________________________________________\n",
            "max_pooling3d_2 (MaxPooling3 (None, 2, 2, 2, 128)      0         \n",
            "_________________________________________________________________\n",
            "conv3d_3 (Conv3D)            (None, 2, 2, 2, 256)      884992    \n",
            "_________________________________________________________________\n",
            "max_pooling3d_3 (MaxPooling3 (None, 1, 1, 1, 256)      0         \n",
            "=================================================================\n",
            "Total params: 1,164,288\n",
            "Trainable params: 1,164,288\n",
            "Non-trainable params: 0\n",
            "_________________________________________________________________\n"
          ],
          "name": "stdout"
        }
      ]
    },
    {
      "cell_type": "code",
      "metadata": {
        "id": "s3_ELPv0cjDm"
      },
      "source": [
        "model.add(Flatten())\n",
        "model.add(Dense(128,activation=\"relu\"))\n",
        "model.add(Dropout(0.5))\n",
        "model.add(Dense(10,activation=\"softmax\")) "
      ],
      "execution_count": 18,
      "outputs": []
    },
    {
      "cell_type": "code",
      "metadata": {
        "id": "z4jIi3ZkefFV",
        "colab": {
          "base_uri": "https://localhost:8080/"
        },
        "outputId": "2386982f-8fc3-4e85-91a6-a41d52bfd051"
      },
      "source": [
        "model.summary()"
      ],
      "execution_count": 19,
      "outputs": [
        {
          "output_type": "stream",
          "text": [
            "Model: \"sequential\"\n",
            "_________________________________________________________________\n",
            "Layer (type)                 Output Shape              Param #   \n",
            "=================================================================\n",
            "conv3d (Conv3D)              (None, 16, 16, 16, 32)    2624      \n",
            "_________________________________________________________________\n",
            "max_pooling3d (MaxPooling3D) (None, 8, 8, 8, 32)       0         \n",
            "_________________________________________________________________\n",
            "conv3d_1 (Conv3D)            (None, 8, 8, 8, 64)       55360     \n",
            "_________________________________________________________________\n",
            "max_pooling3d_1 (MaxPooling3 (None, 4, 4, 4, 64)       0         \n",
            "_________________________________________________________________\n",
            "conv3d_2 (Conv3D)            (None, 4, 4, 4, 128)      221312    \n",
            "_________________________________________________________________\n",
            "max_pooling3d_2 (MaxPooling3 (None, 2, 2, 2, 128)      0         \n",
            "_________________________________________________________________\n",
            "conv3d_3 (Conv3D)            (None, 2, 2, 2, 256)      884992    \n",
            "_________________________________________________________________\n",
            "max_pooling3d_3 (MaxPooling3 (None, 1, 1, 1, 256)      0         \n",
            "_________________________________________________________________\n",
            "flatten (Flatten)            (None, 256)               0         \n",
            "_________________________________________________________________\n",
            "dense (Dense)                (None, 128)               32896     \n",
            "_________________________________________________________________\n",
            "dropout (Dropout)            (None, 128)               0         \n",
            "_________________________________________________________________\n",
            "dense_1 (Dense)              (None, 10)                1290      \n",
            "=================================================================\n",
            "Total params: 1,198,474\n",
            "Trainable params: 1,198,474\n",
            "Non-trainable params: 0\n",
            "_________________________________________________________________\n"
          ],
          "name": "stdout"
        }
      ]
    },
    {
      "cell_type": "code",
      "metadata": {
        "id": "weAkDYHfZ8Xx",
        "colab": {
          "base_uri": "https://localhost:8080/"
        },
        "outputId": "81e3c73a-62ad-4297-c9c8-b520558f5f7e"
      },
      "source": [
        "model.compile(loss='categorical_crossentropy', optimizer='adam', metrics=['accuracy'])\n",
        "history=model.fit(x=xtrain, y=y_train, batch_size=128, epochs=50, validation_split=0.15)"
      ],
      "execution_count": 23,
      "outputs": [
        {
          "output_type": "stream",
          "text": [
            "Epoch 1/50\n",
            "67/67 [==============================] - 2s 33ms/step - loss: 0.6842 - accuracy: 0.7698 - val_loss: 0.8486 - val_accuracy: 0.7200\n",
            "Epoch 2/50\n",
            "67/67 [==============================] - 2s 29ms/step - loss: 0.6029 - accuracy: 0.8002 - val_loss: 0.8193 - val_accuracy: 0.7333\n",
            "Epoch 3/50\n",
            "67/67 [==============================] - 2s 30ms/step - loss: 0.5363 - accuracy: 0.8160 - val_loss: 0.9086 - val_accuracy: 0.7240\n",
            "Epoch 4/50\n",
            "67/67 [==============================] - 2s 30ms/step - loss: 0.4752 - accuracy: 0.8436 - val_loss: 0.8902 - val_accuracy: 0.7280\n",
            "Epoch 5/50\n",
            "67/67 [==============================] - 2s 30ms/step - loss: 0.4569 - accuracy: 0.8425 - val_loss: 0.9162 - val_accuracy: 0.7293\n",
            "Epoch 6/50\n",
            "67/67 [==============================] - 2s 30ms/step - loss: 0.3987 - accuracy: 0.8618 - val_loss: 0.8817 - val_accuracy: 0.7393\n",
            "Epoch 7/50\n",
            "67/67 [==============================] - 2s 30ms/step - loss: 0.3399 - accuracy: 0.8864 - val_loss: 0.8479 - val_accuracy: 0.7533\n",
            "Epoch 8/50\n",
            "67/67 [==============================] - 2s 29ms/step - loss: 0.3193 - accuracy: 0.8928 - val_loss: 0.9403 - val_accuracy: 0.7467\n",
            "Epoch 9/50\n",
            "67/67 [==============================] - 2s 30ms/step - loss: 0.2483 - accuracy: 0.9179 - val_loss: 0.9793 - val_accuracy: 0.7413\n",
            "Epoch 10/50\n",
            "67/67 [==============================] - 2s 30ms/step - loss: 0.2121 - accuracy: 0.9322 - val_loss: 1.1048 - val_accuracy: 0.7527\n",
            "Epoch 11/50\n",
            "67/67 [==============================] - 2s 30ms/step - loss: 0.2114 - accuracy: 0.9299 - val_loss: 1.1233 - val_accuracy: 0.7347\n",
            "Epoch 12/50\n",
            "67/67 [==============================] - 2s 30ms/step - loss: 0.1986 - accuracy: 0.9345 - val_loss: 1.1661 - val_accuracy: 0.7447\n",
            "Epoch 13/50\n",
            "67/67 [==============================] - 2s 30ms/step - loss: 0.1570 - accuracy: 0.9504 - val_loss: 1.1477 - val_accuracy: 0.7587\n",
            "Epoch 14/50\n",
            "67/67 [==============================] - 2s 30ms/step - loss: 0.1436 - accuracy: 0.9531 - val_loss: 1.2016 - val_accuracy: 0.7433\n",
            "Epoch 15/50\n",
            "67/67 [==============================] - 2s 30ms/step - loss: 0.1179 - accuracy: 0.9620 - val_loss: 1.2846 - val_accuracy: 0.7420\n",
            "Epoch 16/50\n",
            "67/67 [==============================] - 2s 30ms/step - loss: 0.1209 - accuracy: 0.9631 - val_loss: 1.2649 - val_accuracy: 0.7487\n",
            "Epoch 17/50\n",
            "67/67 [==============================] - 2s 30ms/step - loss: 0.0989 - accuracy: 0.9686 - val_loss: 1.4211 - val_accuracy: 0.7453\n",
            "Epoch 18/50\n",
            "67/67 [==============================] - 2s 30ms/step - loss: 0.0840 - accuracy: 0.9720 - val_loss: 1.4027 - val_accuracy: 0.7420\n",
            "Epoch 19/50\n",
            "67/67 [==============================] - 2s 30ms/step - loss: 0.0866 - accuracy: 0.9729 - val_loss: 1.4096 - val_accuracy: 0.7513\n",
            "Epoch 20/50\n",
            "67/67 [==============================] - 2s 30ms/step - loss: 0.0671 - accuracy: 0.9779 - val_loss: 1.3836 - val_accuracy: 0.7473\n",
            "Epoch 21/50\n",
            "67/67 [==============================] - 2s 30ms/step - loss: 0.0790 - accuracy: 0.9718 - val_loss: 1.4367 - val_accuracy: 0.7353\n",
            "Epoch 22/50\n",
            "67/67 [==============================] - 2s 30ms/step - loss: 0.0845 - accuracy: 0.9725 - val_loss: 1.6759 - val_accuracy: 0.7387\n",
            "Epoch 23/50\n",
            "67/67 [==============================] - 2s 30ms/step - loss: 0.0800 - accuracy: 0.9776 - val_loss: 1.5912 - val_accuracy: 0.7367\n",
            "Epoch 24/50\n",
            "67/67 [==============================] - 2s 30ms/step - loss: 0.0866 - accuracy: 0.9716 - val_loss: 1.5191 - val_accuracy: 0.7380\n",
            "Epoch 25/50\n",
            "67/67 [==============================] - 2s 30ms/step - loss: 0.0792 - accuracy: 0.9752 - val_loss: 1.5620 - val_accuracy: 0.7453\n",
            "Epoch 26/50\n",
            "67/67 [==============================] - 2s 30ms/step - loss: 0.0628 - accuracy: 0.9796 - val_loss: 1.5169 - val_accuracy: 0.7433\n",
            "Epoch 27/50\n",
            "67/67 [==============================] - 2s 30ms/step - loss: 0.0494 - accuracy: 0.9851 - val_loss: 1.6465 - val_accuracy: 0.7473\n",
            "Epoch 28/50\n",
            "67/67 [==============================] - 2s 30ms/step - loss: 0.0353 - accuracy: 0.9884 - val_loss: 1.6982 - val_accuracy: 0.7453\n",
            "Epoch 29/50\n",
            "67/67 [==============================] - 2s 30ms/step - loss: 0.0503 - accuracy: 0.9835 - val_loss: 1.7029 - val_accuracy: 0.7487\n",
            "Epoch 30/50\n",
            "67/67 [==============================] - 2s 30ms/step - loss: 0.0421 - accuracy: 0.9869 - val_loss: 1.7695 - val_accuracy: 0.7420\n",
            "Epoch 31/50\n",
            "67/67 [==============================] - 2s 30ms/step - loss: 0.0495 - accuracy: 0.9849 - val_loss: 1.6764 - val_accuracy: 0.7420\n",
            "Epoch 32/50\n",
            "67/67 [==============================] - 2s 30ms/step - loss: 0.0546 - accuracy: 0.9806 - val_loss: 1.5567 - val_accuracy: 0.7373\n",
            "Epoch 33/50\n",
            "67/67 [==============================] - 2s 30ms/step - loss: 0.0461 - accuracy: 0.9854 - val_loss: 1.8278 - val_accuracy: 0.7327\n",
            "Epoch 34/50\n",
            "67/67 [==============================] - 2s 30ms/step - loss: 0.0681 - accuracy: 0.9793 - val_loss: 1.6963 - val_accuracy: 0.7400\n",
            "Epoch 35/50\n",
            "67/67 [==============================] - 2s 30ms/step - loss: 0.0494 - accuracy: 0.9839 - val_loss: 1.8021 - val_accuracy: 0.7513\n",
            "Epoch 36/50\n",
            "67/67 [==============================] - 2s 31ms/step - loss: 0.0390 - accuracy: 0.9900 - val_loss: 1.6994 - val_accuracy: 0.7447\n",
            "Epoch 37/50\n",
            "67/67 [==============================] - 2s 30ms/step - loss: 0.0380 - accuracy: 0.9898 - val_loss: 1.6630 - val_accuracy: 0.7367\n",
            "Epoch 38/50\n",
            "67/67 [==============================] - 2s 30ms/step - loss: 0.0437 - accuracy: 0.9862 - val_loss: 1.7814 - val_accuracy: 0.7427\n",
            "Epoch 39/50\n",
            "67/67 [==============================] - 2s 30ms/step - loss: 0.0405 - accuracy: 0.9871 - val_loss: 1.7267 - val_accuracy: 0.7440\n",
            "Epoch 40/50\n",
            "67/67 [==============================] - 2s 30ms/step - loss: 0.0226 - accuracy: 0.9935 - val_loss: 2.0664 - val_accuracy: 0.7340\n",
            "Epoch 41/50\n",
            "67/67 [==============================] - 2s 31ms/step - loss: 0.0733 - accuracy: 0.9779 - val_loss: 1.6446 - val_accuracy: 0.7420\n",
            "Epoch 42/50\n",
            "67/67 [==============================] - 2s 30ms/step - loss: 0.0680 - accuracy: 0.9798 - val_loss: 1.6985 - val_accuracy: 0.7367\n",
            "Epoch 43/50\n",
            "67/67 [==============================] - 2s 30ms/step - loss: 0.0381 - accuracy: 0.9879 - val_loss: 2.0047 - val_accuracy: 0.7273\n",
            "Epoch 44/50\n",
            "67/67 [==============================] - 2s 31ms/step - loss: 0.0569 - accuracy: 0.9833 - val_loss: 1.7345 - val_accuracy: 0.7413\n",
            "Epoch 45/50\n",
            "67/67 [==============================] - 2s 31ms/step - loss: 0.0479 - accuracy: 0.9851 - val_loss: 1.7010 - val_accuracy: 0.7447\n",
            "Epoch 46/50\n",
            "67/67 [==============================] - 2s 30ms/step - loss: 0.0383 - accuracy: 0.9889 - val_loss: 1.8370 - val_accuracy: 0.7367\n",
            "Epoch 47/50\n",
            "67/67 [==============================] - 2s 30ms/step - loss: 0.0356 - accuracy: 0.9891 - val_loss: 1.9692 - val_accuracy: 0.7507\n",
            "Epoch 48/50\n",
            "67/67 [==============================] - 2s 31ms/step - loss: 0.0304 - accuracy: 0.9902 - val_loss: 2.0966 - val_accuracy: 0.7347\n",
            "Epoch 49/50\n",
            "67/67 [==============================] - 2s 30ms/step - loss: 0.0337 - accuracy: 0.9902 - val_loss: 1.8929 - val_accuracy: 0.7293\n",
            "Epoch 50/50\n",
            "67/67 [==============================] - 2s 30ms/step - loss: 0.0237 - accuracy: 0.9925 - val_loss: 2.1200 - val_accuracy: 0.7513\n"
          ],
          "name": "stdout"
        }
      ]
    },
    {
      "cell_type": "code",
      "metadata": {
        "id": "wka7ZgvdhXza",
        "colab": {
          "base_uri": "https://localhost:8080/",
          "height": 300
        },
        "outputId": "db050442-49e5-43a5-dd1e-cfd34934eea6"
      },
      "source": [
        "import matplotlib.pyplot as plt\n",
        "plt.plot(history.history['accuracy'], label='accuracy')\n",
        "plt.plot(history.history['val_accuracy'], label = 'val_accuracy')\n",
        "plt.xlabel('Epoch')\n",
        "plt.ylabel('Accuracy')\n",
        "plt.ylim([0.5, 1])\n",
        "plt.legend(loc='lower right')\n"
      ],
      "execution_count": 24,
      "outputs": [
        {
          "output_type": "execute_result",
          "data": {
            "text/plain": [
              "<matplotlib.legend.Legend at 0x7f9a7e0e09b0>"
            ]
          },
          "metadata": {
            "tags": []
          },
          "execution_count": 24
        },
        {
          "output_type": "display_data",
          "data": {
            "image/png": "[encoded data removed]",
            "text/plain": [
              "<Figure size 432x288 with 1 Axes>"
            ]
          },
          "metadata": {
            "tags": [],
            "needs_background": "light"
          }
        }
      ]
    },
    {
      "cell_type": "code",
      "metadata": {
        "id": "ylEmkXXElCOB",
        "colab": {
          "base_uri": "https://localhost:8080/",
          "height": 17
        },
        "outputId": "7517f590-414f-48d2-d243-60c2e6714ec4"
      },
      "source": [
        "model.save('model2.h5')\n",
        "from google.colab import files\n",
        "files.download(\"model2.h5\")"
      ],
      "execution_count": 25,
      "outputs": [
        {
          "output_type": "display_data",
          "data": {
            "application/javascript": [
              "\n",
              "    async function download(id, filename, size) {\n",
              "      if (!google.colab.kernel.accessAllowed) {\n",
              "        return;\n",
              "      }\n",
              "      const div = document.createElement('div');\n",
              "      const label = document.createElement('label');\n",
              "      label.textContent = `Downloading \"${filename}\": `;\n",
              "      div.appendChild(label);\n",
              "      const progress = document.createElement('progress');\n",
              "      progress.max = size;\n",
              "      div.appendChild(progress);\n",
              "      document.body.appendChild(div);\n",
              "\n",
              "      const buffers = [];\n",
              "      let downloaded = 0;\n",
              "\n",
              "      const channel = await google.colab.kernel.comms.open(id);\n",
              "      // Send a message to notify the kernel that we're ready.\n",
              "      channel.send({})\n",
              "\n",
              "      for await (const message of channel.messages) {\n",
              "        // Send a message to notify the kernel that we're ready.\n",
              "        channel.send({})\n",
              "        if (message.buffers) {\n",
              "          for (const buffer of message.buffers) {\n",
              "            buffers.push(buffer);\n",
              "            downloaded += buffer.byteLength;\n",
              "            progress.value = downloaded;\n",
              "          }\n",
              "        }\n",
              "      }\n",
              "      const blob = new Blob(buffers, {type: 'application/binary'});\n",
              "      const a = document.createElement('a');\n",
              "      a.href = window.URL.createObjectURL(blob);\n",
              "      a.download = filename;\n",
              "      div.appendChild(a);\n",
              "      a.click();\n",
              "      div.remove();\n",
              "    }\n",
              "  "
            ],
            "text/plain": [
              "<IPython.core.display.Javascript object>"
            ]
          },
          "metadata": {
            "tags": []
          }
        },
        {
          "output_type": "display_data",
          "data": {
            "application/javascript": [
              "download(\"download_d7ff5089-2df0-4df0-812b-2c024dbf1e9e\", \"model2.h5\", 14445096)"
            ],
            "text/plain": [
              "<IPython.core.display.Javascript object>"
            ]
          },
          "metadata": {
            "tags": []
          }
        }
      ]
    }
  ]
}